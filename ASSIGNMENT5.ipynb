{
 "cells": [
  {
   "cell_type": "code",
   "execution_count": 2,
   "id": "acda1a97-d9c9-4838-a878-cc9dd6b4fc23",
   "metadata": {},
   "outputs": [
    {
     "name": "stdin",
     "output_type": "stream",
     "text": [
      "enter the first no 4\n",
      "enter the second no 3\n"
     ]
    },
    {
     "name": "stdout",
     "output_type": "stream",
     "text": [
      "the lcm of 4 and 3 is 12\n"
     ]
    }
   ],
   "source": [
    "### 1. Write a Python Program to Find LCM?\n",
    "def lcm(x, y):\n",
    "    if x > y:\n",
    "        greater = x\n",
    "    else:\n",
    "        greater = y\n",
    "        \n",
    "    while True:\n",
    "        if greater % x == 0 and greater % y == 0:\n",
    "            lcm = greater\n",
    "            break\n",
    "        greater += 1\n",
    "        \n",
    "    return  lcm\n",
    "\n",
    "num1 = int(input(\"enter the first no\"))\n",
    "num2 = int(input(\"enter the second no\"))\n",
    "\n",
    "print(\"the lcm of\", num1, \"and\", num2, \"is\", lcm(num1,num2))"
   ]
  },
  {
   "cell_type": "code",
   "execution_count": 1,
   "id": "c3772f9d-5223-477f-a56d-aa5c2b2ff868",
   "metadata": {},
   "outputs": [
    {
     "name": "stdin",
     "output_type": "stream",
     "text": [
      "enter the first no. 3\n",
      "enter the second no. 4\n"
     ]
    },
    {
     "name": "stdout",
     "output_type": "stream",
     "text": [
      "the hcf of 3 and 4 is 1\n"
     ]
    }
   ],
   "source": [
    "### 2. Write a Python Program to Find HCF?\n",
    "def hcf(x, y):\n",
    "    \n",
    "    if x > y:\n",
    "        smaller = y\n",
    "    else:\n",
    "        smaller = x\n",
    "        \n",
    "        hcf=1\n",
    "        for i in range(1, smaller+1):\n",
    "            if x % i == 0 and y % i == 0:\n",
    "                hcf = i\n",
    "                \n",
    "        return hcf\n",
    "num1=int(input(\"enter the first no.\"))\n",
    "num2=int(input(\"enter the second no.\"))\n",
    "\n",
    "print(\"the hcf of\", num1, \"and\", num2, \"is\", hcf(num1, num2))"
   ]
  },
  {
   "cell_type": "code",
   "execution_count": 5,
   "id": "775a80d0-ebed-4164-9188-9a685ffa7bd9",
   "metadata": {},
   "outputs": [
    {
     "name": "stdin",
     "output_type": "stream",
     "text": [
      "enter the decimal no 5\n"
     ]
    },
    {
     "name": "stdout",
     "output_type": "stream",
     "text": [
      "the decimal value of 5 is\n",
      "0b101 in binary\n",
      "0o5 in octal\n",
      "0x5 in hexadecimal\n"
     ]
    }
   ],
   "source": [
    "### 3. Write a Python Program to Convert Decimal to Binary, Octal and Hexadecimal?\n",
    "dec = int(input(\"enter the decimal no\"))\n",
    "\n",
    "print(\"the decimal value of\", dec, \"is\")\n",
    "print(bin(dec), \"in binary\")\n",
    "print(oct(dec), \"in octal\")\n",
    "print(hex(dec), \"in hexadecimal\")"
   ]
  },
  {
   "cell_type": "code",
   "execution_count": 9,
   "id": "6f4796d5-1fc2-410f-920d-a8d04170dfa7",
   "metadata": {},
   "outputs": [
    {
     "name": "stdin",
     "output_type": "stream",
     "text": [
      "enter the character r\n"
     ]
    },
    {
     "name": "stdout",
     "output_type": "stream",
     "text": [
      "the ASCII value of r is  114\n"
     ]
    }
   ],
   "source": [
    "### 4. Write a Python Program To Find ASCII value of a character?\n",
    "###ASCII stands for American Standard Code for Information Interchange. \n",
    "##It is a character encoding standard that assigns unique numeric codes to letters, digits, punctuation marks, and other symbols commonly used in the English language.\n",
    "\n",
    "##The ASCII standard includes a total of 128 characters, with each character represented by a 7-bit binary code. \n",
    "##The ASCII codes for the characters range from 0 to 127, with the first 32 codes reserved for control characters such as carriage return, line feed, and tab.\n",
    "\n",
    "##For example, the ASCII code for the letter 'A' is 65, the code for the digit '0' is 48, and the code for the punctuation mark '.' is 46.\n",
    "\n",
    "##ASCII is widely used in computing and telecommunications as a means of representing text.\n",
    "### It provides a standardized way of representing characters that can be easily understood and interpreted by different computer systems and software applications.\n",
    "\n",
    "char = input(\"enter the character\")\n",
    "print(\"the ASCII value of \" +char+ \" is \", ord(char))"
   ]
  },
  {
   "cell_type": "code",
   "execution_count": 11,
   "id": "1dbd5beb-f507-4748-95cd-440a51bacb24",
   "metadata": {},
   "outputs": [
    {
     "name": "stdin",
     "output_type": "stream",
     "text": [
      "enter the first no. 75\n",
      "enter the second no. 25\n"
     ]
    },
    {
     "name": "stdout",
     "output_type": "stream",
     "text": [
      "n choose operation\n",
      "1. addition\n",
      "2. subtract\n",
      "3. multiply\n",
      "4. divide\n"
     ]
    },
    {
     "name": "stdin",
     "output_type": "stream",
     "text": [
      "enter the choice (1/2/3/4):  1\n"
     ]
    },
    {
     "name": "stdout",
     "output_type": "stream",
     "text": [
      "75.0 + 25.0 = 100.0\n"
     ]
    }
   ],
   "source": [
    "### 5. Write a Python Program to Make a Simple Calculator with 4 basic mathematical operations?\n",
    "def add(x, y):\n",
    "    return x + y\n",
    "def subtract(x, y):\n",
    "    return x - y\n",
    "def multiply(x, y):\n",
    "    return x * y\n",
    "def divide(x, y):\n",
    "    return(x / y)\n",
    "num1=float(input(\"enter the first no.\"))\n",
    "num2=float(input(\"enter the second no.\"))\n",
    "\n",
    "print(\"n choose operation\")\n",
    "print(\"1. addition\")\n",
    "print(\"2. subtract\")\n",
    "print(\"3. multiply\")\n",
    "print(\"4. divide\")\n",
    "\n",
    "choice = input(\"enter the choice (1/2/3/4): \")\n",
    "if choice == '1':\n",
    "    print(num1, \"+\", num2, \"=\", add(num1, num2))\n",
    "elif choice == '2':\n",
    "    print(num1, \"-\", num2, \"=\", subtract(num1, num2))\n",
    "elif choice =='3':\n",
    "    print(num1, \"*\", num2, \"=\", multiply(num1, num2))\n",
    "elif choice == '4':\n",
    "    print(num1, \"/\", num2, \"/\", divide(num1, num2))\n",
    "else:\n",
    "    print(\"invalid input\")"
   ]
  },
  {
   "cell_type": "code",
   "execution_count": null,
   "id": "7ebbebc2-f7a6-4706-8525-e94a2b71ec70",
   "metadata": {},
   "outputs": [],
   "source": []
  }
 ],
 "metadata": {
  "kernelspec": {
   "display_name": "Python 3 (ipykernel)",
   "language": "python",
   "name": "python3"
  },
  "language_info": {
   "codemirror_mode": {
    "name": "ipython",
    "version": 3
   },
   "file_extension": ".py",
   "mimetype": "text/x-python",
   "name": "python",
   "nbconvert_exporter": "python",
   "pygments_lexer": "ipython3",
   "version": "3.10.6"
  }
 },
 "nbformat": 4,
 "nbformat_minor": 5
}
